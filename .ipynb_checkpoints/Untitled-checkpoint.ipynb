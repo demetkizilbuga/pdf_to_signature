{
 "cells": [
  {
   "cell_type": "code",
   "execution_count": 4,
   "metadata": {
    "scrolled": true
   },
   "outputs": [],
   "source": [
    "import os\n",
    "import time\n",
    "import argparse\n",
    "import tempfile\n",
    "import PyPDF2\n",
    "import datetime\n",
    "from reportlab.pdfgen import canvas\n",
    "\n",
    "def _get_tmp_filename(suffix=\".pdf\"):\n",
    "    with tempfile.NamedTemporaryFile(suffix=\".pdf\") as fh:\n",
    "        return fh.name\n",
    "\n",
    "def sign_pdf(pdf, sig, coords, output=None):\n",
    "    #TODO: use a gui or something.... for now, just trial-and-error the coords\n",
    "    page_num, x1, y1, width, height = [int(a) for a in coords.split(\"x\")]\n",
    "    page_num -= 1\n",
    "\n",
    "    output_filename = output or \"{}_signed{}\".format(\n",
    "        *os.path.splitext(pdf)\n",
    "    )\n",
    "\n",
    "    pdf_fh = open(pdf, 'rb')\n",
    "    sig_tmp_fh = None\n",
    "\n",
    "    pdf = PyPDF2.PdfFileReader(pdf_fh)\n",
    "    writer = PyPDF2.PdfFileWriter()\n",
    "    sig_tmp_filename = None\n",
    "\n",
    "    for i in range(0, pdf.getNumPages()):\n",
    "        page = pdf.getPage(i)\n",
    "\n",
    "        if i == page_num:\n",
    "            # Create PDF for signature\n",
    "            sig_tmp_filename = _get_tmp_filename()\n",
    "            c = canvas.Canvas(sig_tmp_filename, pagesize=page.cropBox)\n",
    "            c.drawImage(sig, x1, y1, width, height)\n",
    "            #if date:\n",
    "            #    c.drawString(x1 + width, y1, datetime.datetime.now().strftime(\"%Y-%m-%d\"))\n",
    "            c.showPage()\n",
    "            c.save()\n",
    "\n",
    "            # Merge PDF in to original page\n",
    "            sig_tmp_fh = open(sig_tmp_filename, 'rb')\n",
    "            sig_tmp_pdf = PyPDF2.PdfFileReader(sig_tmp_fh)\n",
    "            sig_page = sig_tmp_pdf.getPage(0)\n",
    "            sig_page.mediaBox = page.mediaBox\n",
    "            page.mergePage(sig_page)\n",
    "\n",
    "        writer.addPage(page)\n",
    "\n",
    "    with open(output_filename, 'w') as fh:\n",
    "        writer.write(fh)\n",
    "\n",
    "    for handle in [pdf_fh, sig_tmp_fh]:\n",
    "        if handle:\n",
    "            handle.close()\n",
    "    if sig_tmp_filename:\n",
    "        os.remove(sig_tmp_filename)\n",
    "\n",
    "def main():\n",
    "    pdf = '0001.pdf'\n",
    "    sig = 'asd.png'\n",
    "    coords = '1x100x100x150x40'\n",
    "    #output = 'imzali.pdf'\n",
    "    sign_pdf(pdf, sig, coords)\n",
    "\n",
    "if __name__ == \"__main__\":\n",
    "    main()\n"
   ]
  },
  {
   "cell_type": "code",
   "execution_count": null,
   "metadata": {},
   "outputs": [],
   "source": []
  },
  {
   "cell_type": "code",
   "execution_count": null,
   "metadata": {},
   "outputs": [],
   "source": []
  }
 ],
 "metadata": {
  "kernelspec": {
   "display_name": "Python 3",
   "language": "python",
   "name": "python3"
  },
  "language_info": {
   "codemirror_mode": {
    "name": "ipython",
    "version": 2
   },
   "file_extension": ".py",
   "mimetype": "text/x-python",
   "name": "python",
   "nbconvert_exporter": "python",
   "pygments_lexer": "ipython2",
   "version": "2.7.15"
  }
 },
 "nbformat": 4,
 "nbformat_minor": 2
}
